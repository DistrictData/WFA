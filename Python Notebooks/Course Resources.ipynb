{
 "cells": [
  {
   "cell_type": "markdown",
   "metadata": {},
   "source": [
    "<img src=\"../images/wfa.png\"  width=\"200\" height=\"200\">\n",
    "***"
   ]
  },
  {
   "cell_type": "markdown",
   "metadata": {},
   "source": [
    "## Getting Started\n",
    "\n",
    "- __[Lynda: Jupyter Notebooks](https://www.lynda.com/Python-tutorials/Getting-started-Jupyter/520233/601936-4.html?srchtrk=index%3a1%0alinktypeid%3a2%0aq%3apython%0apage%3a1%0as%3arelevance%0asa%3atrue%0aproducttypeid%3a2)__\n",
    "    - Getting started with Jupyter Notebooks (What this is!)\n",
    "    - Visualizing data\n",
    "    \n",
    "- __[Learning GIT](https://try.github.io/levels/1/challenges/1)__\n",
    "    - Official Git walk-thru\n",
    "    - 15 minute tutorial\n",
    "    - In-browser command prompt\n",
    "\n",
    "- __[DataCamp: Python for Data Science Essential Training](https://www.datacamp.com/courses/intro-to-python-for-data-science)__\n",
    "    - Python Intro\n",
    "    - Lists and Functions\n",
    "    - NumPy"
   ]
  },
  {
   "cell_type": "markdown",
   "metadata": {},
   "source": [
    "## Online Learning Options\n",
    "\n",
    "-  __[Databases](https://www.lynda.com/MySQL-tutorials/Database-Clinic-MySQL/609013-2.html)__\n",
    "    - Creating a database\n",
    "    - Joining data sets\n",
    "    - Integrating Python with MySQL\n",
    "    - Searching a database\n",
    "\n",
    "-  __[Importing data](https://www.datacamp.com/courses/importing-data-in-python-part-1.Importing+data+using+SQL+Server+Management+StudioUsing)__\n",
    "    - Intoduction and Flat Files\n",
    "    - Importing data from other file types\n",
    "    - Working with relational databases in Python\n",
    "\n",
    "- __[Data Analysis](https://www.lynda.com/Numpy-tutorials/Introduction-Data-Analysis-Python/419162-2.html?srchtrk=index%3a2%0alinktypeid%3a2%0aq%3apython%0apage%3a1%0as%3arelevance%0asa%3atrue%0aproducttypeid%3a2)__\n",
    "    - Introduction to NumPy\n",
    "    - Weather data with NumPy\n",
    "    - Introduction to Pandas\n",
    "    - Baby names with Pandas\n",
    "    \n",
    "- __[Machine Learning: Supervised Learning with scikit-learn](https://www.datacamp.com/courses/supervised-learning-with-scikit-learn)__\n",
    "    - Classification\n",
    "    - Regression\n",
    "    - Tune your model\n",
    "***"
   ]
  },
  {
   "cell_type": "markdown",
   "metadata": {},
   "source": [
    "## Resources\n",
    "\n",
    "#### Cheat Sheets\n",
    "\n",
    "- __[Git Cheat Sheet](https://www.atlassian.com/git/tutorials/atlassian-git-cheatsheet)__\n",
    "    - Basic commands that everyone forgets:\n",
    "    - Undo\n",
    "    - Branches\n",
    "    - Push/Pull\n",
    "\n",
    "- __[Cheat Sheets from DataCamp](https://www.datacamp.com/community/data-science-cheatsheets)__\n",
    "    - Importing Data\n",
    "    - DataViz: Bokeh\n",
    "    - Jupyter Notebook\n",
    "    - Pandas\n",
    "    \n",
    "- __[Cheat Sheets from DataQuest](https://www.dataquest.io/blog/python-cheat-sheet/)__\n",
    "    - Popular blog\n",
    "    - Cheat sheets and posts relating to all things DS\n",
    "    \n",
    "\n",
    "#### Other Resources\n",
    "\n",
    "- __[Stack Overflow: Python](https://stackoverflow.com/questions/tagged/python)__\n",
    "    - Extremely popular board to ask/answer questions\n",
    "    - Very active and will help solve most issues you have\n",
    "    \n",
    "- __[Reddit: r/LearnPython](https://www.reddit.com/r/learnpython/)__\n",
    "    - Popular forum for Python \n",
    "    - Ask python questions\n",
    "\n",
    "- __[Python Anywhere](https://www.pythonanywhere.com/)__\n",
    "    - Host, run, and code Python in the cloud!\n",
    "    - Great for sharing mini projects\n",
    "    - Free tier :)\n",
    "        \n",
    "- __[Automate The Boring Stuff](https://automatetheboringstuff.com/)__\n",
    "    - Popular Begginners Book\n",
    "    - Learn practical applications for Python"
   ]
  }
 ],
 "metadata": {
  "kernelspec": {
   "display_name": "Python 3",
   "language": "python",
   "name": "python3"
  },
  "language_info": {
   "codemirror_mode": {
    "name": "ipython",
    "version": 3
   },
   "file_extension": ".py",
   "mimetype": "text/x-python",
   "name": "python",
   "nbconvert_exporter": "python",
   "pygments_lexer": "ipython3",
   "version": "3.6.3"
  }
 },
 "nbformat": 4,
 "nbformat_minor": 2
}
