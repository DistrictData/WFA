{
 "cells": [
  {
   "cell_type": "markdown",
   "metadata": {},
   "source": [
    "# R Markdown\n",
    "\n",
    "This is Jupyter Notebook using an R Kernel. \n",
    "\n",
    "Another option is using R Markdown which is a simple formatting syntax for authoring HTML, PDF, and MS Word documents. For more details on using R Markdown see <http://rmarkdown.rstudio.com>.\n",
    "\n",
    "## Hello World\n",
    "Lets start with the classic \"Hello World\" as well as taking a look at the types of variables R has, along with how to properly make variable assignments and view the structure of it.\n"
   ]
  },
  {
   "cell_type": "code",
   "execution_count": 30,
   "metadata": {},
   "outputs": [
    {
     "name": "stdout",
     "output_type": "stream",
     "text": [
      "[1] \"Hello World\"\n",
      " logi TRUE\n"
     ]
    }
   ],
   "source": [
    "print(\"Hello World\")\n",
    "\n",
    "a <- 'a'\n",
    "b <- 1\n",
    "c <- '1'\n",
    "d <- TRUE\n",
    "e = 'an equal sign works, but is not proper variable assignment'\n",
    "\n",
    "#use the function 'str()' to explore the structure of a variable.\n",
    "str(d)"
   ]
  },
  {
   "cell_type": "markdown",
   "metadata": {},
   "source": [
    "# Vectors\n",
    "***\n",
    "\n",
    "Vectors are power data structures in R.  You can have two types:\n",
    "\n",
    "* Atomic Vector\n",
    "* List\n",
    "\n",
    "Atomic Vector can be a vector of characters, logical, integers or numeric.  If they are mixed types, R will coerce the vector to a common data type. (my_third_vector)"
   ]
  },
  {
   "cell_type": "code",
   "execution_count": 32,
   "metadata": {},
   "outputs": [
    {
     "name": "stdout",
     "output_type": "stream",
     "text": [
      " chr [1:8] \"a\" \"b\" \"c\" \"d\" \"1\" \"2\" \"3\" \"4\"\n"
     ]
    }
   ],
   "source": [
    "my_first_vector <- c('a','b','c','d')\n",
    "my_second_vector <- c(1,2,3,4)\n",
    "my_third_vector <- c('six','seven',8,9)\n",
    "long_vector <- c(my_first_vector, my_second_vector)\n",
    "\n",
    "str(long_vector)"
   ]
  },
  {
   "cell_type": "markdown",
   "metadata": {},
   "source": [
    "# Lists\n",
    "\n",
    "A list is a generic vector containing other objects. Unlike Python, the index for R start at 1.  They are sometimes refered to as recursive lists, as you can have a list of lists.  Since R doesn't have a native dictionary, recursive lists are the closest thing."
   ]
  },
  {
   "cell_type": "code",
   "execution_count": 33,
   "metadata": {},
   "outputs": [
    {
     "name": "stdout",
     "output_type": "stream",
     "text": [
      "List of 2\n",
      " $ :List of 4\n",
      "  ..$ : chr \"cat\"\n",
      "  ..$ : chr \"dog\"\n",
      "  ..$ : chr \"bird\"\n",
      "  ..$ : chr \"snake\"\n",
      " $ :List of 4\n",
      "  ..$ : num 1\n",
      "  ..$ : num 2\n",
      "  ..$ : num 3\n",
      "  ..$ : num 4\n"
     ]
    }
   ],
   "source": [
    "my_first_list <- list('cat','dog','bird','snake')\n",
    "my_second_list <- list(1,2,3,4)\n",
    "\n",
    "my_third_list <- list(my_first_list, my_second_list)\n",
    "str(my_third_list)"
   ]
  },
  {
   "cell_type": "code",
   "execution_count": 34,
   "metadata": {},
   "outputs": [
    {
     "data": {
      "text/html": [
       "<ol>\n",
       "\t<li>'cat'</li>\n",
       "</ol>\n"
      ],
      "text/latex": [
       "\\begin{enumerate}\n",
       "\\item 'cat'\n",
       "\\end{enumerate}\n"
      ],
      "text/markdown": [
       "1. 'cat'\n",
       "\n",
       "\n"
      ],
      "text/plain": [
       "[[1]]\n",
       "[1] \"cat\"\n"
      ]
     },
     "metadata": {},
     "output_type": "display_data"
    },
    {
     "data": {
      "text/html": [
       "<ol>\n",
       "\t<li>3</li>\n",
       "</ol>\n"
      ],
      "text/latex": [
       "\\begin{enumerate}\n",
       "\\item 3\n",
       "\\end{enumerate}\n"
      ],
      "text/markdown": [
       "1. 3\n",
       "\n",
       "\n"
      ],
      "text/plain": [
       "[[1]]\n",
       "[1] 3\n"
      ]
     },
     "metadata": {},
     "output_type": "display_data"
    }
   ],
   "source": [
    "my_third_list[[1]][1]\n",
    "my_third_list[[2]][3]"
   ]
  },
  {
   "cell_type": "markdown",
   "metadata": {},
   "source": [
    "# List vs Vector\n",
    "\n",
    "A list stores values for retrival, whereas you can perform numerical functions on a vector.  Take a look below:"
   ]
  },
  {
   "cell_type": "code",
   "execution_count": 35,
   "metadata": {},
   "outputs": [
    {
     "ename": "ERROR",
     "evalue": "Error in my_second_list * 2: non-numeric argument to binary operator\n",
     "output_type": "error",
     "traceback": [
      "Error in my_second_list * 2: non-numeric argument to binary operator\nTraceback:\n",
      "1. print(my_second_list * 2)"
     ]
    }
   ],
   "source": [
    "#remember: my_second_list <- list(1,2,3,4)\n",
    "#Running the below returns a Traceback Error\n",
    "print(my_second_list * 2)"
   ]
  },
  {
   "cell_type": "code",
   "execution_count": 36,
   "metadata": {},
   "outputs": [
    {
     "name": "stdout",
     "output_type": "stream",
     "text": [
      "[1] 2 4 6 8\n"
     ]
    }
   ],
   "source": [
    "#remember: my_second_vector <- c(1,2,3,4)\n",
    "print(my_second_vector * 2)"
   ]
  },
  {
   "cell_type": "markdown",
   "metadata": {},
   "source": [
    "# Matrices\n",
    "***\n",
    "Matrices are a necessity if you plan to do any linear algebra type operations on your data.  It is also extrememly fast and efficient for performing numerical analysis.  The equialent in Python would be the NumPy package."
   ]
  },
  {
   "cell_type": "code",
   "execution_count": 47,
   "metadata": {
    "scrolled": true
   },
   "outputs": [
    {
     "name": "stdout",
     "output_type": "stream",
     "text": [
      " int [1:3, 1:3] 1 4 7 2 5 8 3 6 9\n"
     ]
    },
    {
     "data": {
      "text/html": [
       "8"
      ],
      "text/latex": [
       "8"
      ],
      "text/markdown": [
       "8"
      ],
      "text/plain": [
       "[1] 8"
      ]
     },
     "metadata": {},
     "output_type": "display_data"
    },
    {
     "data": {
      "text/html": [
       "<ol class=list-inline>\n",
       "\t<li>4</li>\n",
       "\t<li>5</li>\n",
       "\t<li>6</li>\n",
       "</ol>\n"
      ],
      "text/latex": [
       "\\begin{enumerate*}\n",
       "\\item 4\n",
       "\\item 5\n",
       "\\item 6\n",
       "\\end{enumerate*}\n"
      ],
      "text/markdown": [
       "1. 4\n",
       "2. 5\n",
       "3. 6\n",
       "\n",
       "\n"
      ],
      "text/plain": [
       "[1] 4 5 6"
      ]
     },
     "metadata": {},
     "output_type": "display_data"
    },
    {
     "data": {
      "text/html": [
       "<ol class=list-inline>\n",
       "\t<li>2</li>\n",
       "\t<li>5</li>\n",
       "\t<li>8</li>\n",
       "</ol>\n"
      ],
      "text/latex": [
       "\\begin{enumerate*}\n",
       "\\item 2\n",
       "\\item 5\n",
       "\\item 8\n",
       "\\end{enumerate*}\n"
      ],
      "text/markdown": [
       "1. 2\n",
       "2. 5\n",
       "3. 8\n",
       "\n",
       "\n"
      ],
      "text/plain": [
       "[1] 2 5 8"
      ]
     },
     "metadata": {},
     "output_type": "display_data"
    },
    {
     "name": "stdout",
     "output_type": "stream",
     "text": [
      "     [,1] [,2] [,3]\n",
      "[1,]    2    4    6\n",
      "[2,]    8   10   12\n",
      "[3,]   14   16   18\n",
      "  a b c\n",
      "A 1 2 3\n",
      "B 4 5 6\n",
      "C 7 8 9\n",
      "[1] 6\n"
     ]
    }
   ],
   "source": [
    "x <- 1:9 \n",
    "\n",
    "myfirstmatrix <- matrix(x, nrow = 3, byrow = TRUE)\n",
    "mysecondmatrix <- matrix(x, nrow = 3, byrow = FALSE)\n",
    "str(myfirstmatrix)\n",
    "\n",
    "# Matrix notation in R works similar to vectors, but with an additional dimension\n",
    "myfirstmatrix[3,2]\n",
    "myfirstmatrix[2,]  #returns the 2nd row\n",
    "myfirstmatrix[,2]  #returns the 2nd column\n",
    "\n",
    "print(myfirstmatrix * 2)\n",
    "\n",
    "#can also name rows/cols\n",
    "rownames(myfirstmatrix) <- LETTERS[1:3]\n",
    "colnames(myfirstmatrix) <- letters[1:3]\n",
    "print(myfirstmatrix)\n",
    "\n",
    "print(myfirstmatrix[\"B\", \"c\"])"
   ]
  },
  {
   "cell_type": "markdown",
   "metadata": {},
   "source": [
    "# Solving a linear equation:\n",
    "\n",
    "## $$x_1 +3x_2 = 7$$"
   ]
  },
  {
   "cell_type": "markdown",
   "metadata": {},
   "source": [
    "## $$2x_1+4x_2 = 10$$"
   ]
  },
  {
   "cell_type": "code",
   "execution_count": 46,
   "metadata": {},
   "outputs": [
    {
     "name": "stdout",
     "output_type": "stream",
     "text": [
      "     [,1] [,2]\n",
      "[1,]    1    3\n",
      "[2,]    2    4\n",
      "[1] \"\"\n",
      "[1]  7 10\n",
      "[1] \"\"\n"
     ]
    },
    {
     "data": {
      "text/html": [
       "<ol class=list-inline>\n",
       "\t<li>1</li>\n",
       "\t<li>2</li>\n",
       "</ol>\n"
      ],
      "text/latex": [
       "\\begin{enumerate*}\n",
       "\\item 1\n",
       "\\item 2\n",
       "\\end{enumerate*}\n"
      ],
      "text/markdown": [
       "1. 1\n",
       "2. 2\n",
       "\n",
       "\n"
      ],
      "text/plain": [
       "[1] 1 2"
      ]
     },
     "metadata": {},
     "output_type": "display_data"
    }
   ],
   "source": [
    "a <- matrix(c(1,2,3,4),ncol = 2)\n",
    "b <- c(7,10)\n",
    "\n",
    "print(a)\n",
    "print(b)\n",
    "solve(a,b) #solves for x1 and x2"
   ]
  },
  {
   "cell_type": "markdown",
   "metadata": {},
   "source": [
    "# Dataframes\n",
    "***\n",
    "A data frame is a table or a two-dimensional array-like structure in which each column contains values of one variable and each row contains one set of values from each column. They share many of the properties of matrices and lists. Dataframes are used as the fundamental data structure by most of R's modeling software."
   ]
  },
  {
   "cell_type": "code",
   "execution_count": 39,
   "metadata": {},
   "outputs": [
    {
     "name": "stdout",
     "output_type": "stream",
     "text": [
      "'data.frame':\t53940 obs. of  10 variables:\n",
      " $ carat  : num  0.23 0.21 0.23 0.29 0.31 0.24 0.24 0.26 0.22 0.23 ...\n",
      " $ cut    : Ord.factor w/ 5 levels \"Fair\"<\"Good\"<..: 5 4 2 4 2 3 3 3 1 3 ...\n",
      " $ color  : Ord.factor w/ 7 levels \"D\"<\"E\"<\"F\"<\"G\"<..: 2 2 2 6 7 7 6 5 2 5 ...\n",
      " $ clarity: Ord.factor w/ 8 levels \"I1\"<\"SI2\"<\"SI1\"<..: 2 3 5 4 2 6 7 3 4 5 ...\n",
      " $ depth  : num  61.5 59.8 56.9 62.4 63.3 62.8 62.3 61.9 65.1 59.4 ...\n",
      " $ table  : num  55 61 65 58 58 57 57 55 61 61 ...\n",
      " $ price  : int  326 326 327 334 335 336 336 337 337 338 ...\n",
      " $ x      : num  3.95 3.89 4.05 4.2 4.34 3.94 3.95 4.07 3.87 4 ...\n",
      " $ y      : num  3.98 3.84 4.07 4.23 4.35 3.96 3.98 4.11 3.78 4.05 ...\n",
      " $ z      : num  2.43 2.31 2.31 2.63 2.75 2.48 2.47 2.53 2.49 2.39 ...\n"
     ]
    },
    {
     "data": {
      "text/html": [
       "<table>\n",
       "<thead><tr><th scope=col>carat</th><th scope=col>cut</th><th scope=col>color</th><th scope=col>clarity</th><th scope=col>depth</th><th scope=col>table</th><th scope=col>price</th><th scope=col>x</th><th scope=col>y</th><th scope=col>z</th></tr></thead>\n",
       "<tbody>\n",
       "\t<tr><td>0.23     </td><td>Ideal    </td><td>E        </td><td>SI2      </td><td>61.5     </td><td>55       </td><td>326      </td><td>3.95     </td><td>3.98     </td><td>2.43     </td></tr>\n",
       "\t<tr><td>0.21     </td><td>Premium  </td><td>E        </td><td>SI1      </td><td>59.8     </td><td>61       </td><td>326      </td><td>3.89     </td><td>3.84     </td><td>2.31     </td></tr>\n",
       "\t<tr><td>0.23     </td><td>Good     </td><td>E        </td><td>VS1      </td><td>56.9     </td><td>65       </td><td>327      </td><td>4.05     </td><td>4.07     </td><td>2.31     </td></tr>\n",
       "\t<tr><td>0.29     </td><td>Premium  </td><td>I        </td><td>VS2      </td><td>62.4     </td><td>58       </td><td>334      </td><td>4.20     </td><td>4.23     </td><td>2.63     </td></tr>\n",
       "\t<tr><td>0.31     </td><td>Good     </td><td>J        </td><td>SI2      </td><td>63.3     </td><td>58       </td><td>335      </td><td>4.34     </td><td>4.35     </td><td>2.75     </td></tr>\n",
       "\t<tr><td>0.24     </td><td>Very Good</td><td>J        </td><td>VVS2     </td><td>62.8     </td><td>57       </td><td>336      </td><td>3.94     </td><td>3.96     </td><td>2.48     </td></tr>\n",
       "</tbody>\n",
       "</table>\n"
      ],
      "text/latex": [
       "\\begin{tabular}{r|llllllllll}\n",
       " carat & cut & color & clarity & depth & table & price & x & y & z\\\\\n",
       "\\hline\n",
       "\t 0.23      & Ideal     & E         & SI2       & 61.5      & 55        & 326       & 3.95      & 3.98      & 2.43     \\\\\n",
       "\t 0.21      & Premium   & E         & SI1       & 59.8      & 61        & 326       & 3.89      & 3.84      & 2.31     \\\\\n",
       "\t 0.23      & Good      & E         & VS1       & 56.9      & 65        & 327       & 4.05      & 4.07      & 2.31     \\\\\n",
       "\t 0.29      & Premium   & I         & VS2       & 62.4      & 58        & 334       & 4.20      & 4.23      & 2.63     \\\\\n",
       "\t 0.31      & Good      & J         & SI2       & 63.3      & 58        & 335       & 4.34      & 4.35      & 2.75     \\\\\n",
       "\t 0.24      & Very Good & J         & VVS2      & 62.8      & 57        & 336       & 3.94      & 3.96      & 2.48     \\\\\n",
       "\\end{tabular}\n"
      ],
      "text/markdown": [
       "\n",
       "carat | cut | color | clarity | depth | table | price | x | y | z | \n",
       "|---|---|---|---|---|---|\n",
       "| 0.23      | Ideal     | E         | SI2       | 61.5      | 55        | 326       | 3.95      | 3.98      | 2.43      | \n",
       "| 0.21      | Premium   | E         | SI1       | 59.8      | 61        | 326       | 3.89      | 3.84      | 2.31      | \n",
       "| 0.23      | Good      | E         | VS1       | 56.9      | 65        | 327       | 4.05      | 4.07      | 2.31      | \n",
       "| 0.29      | Premium   | I         | VS2       | 62.4      | 58        | 334       | 4.20      | 4.23      | 2.63      | \n",
       "| 0.31      | Good      | J         | SI2       | 63.3      | 58        | 335       | 4.34      | 4.35      | 2.75      | \n",
       "| 0.24      | Very Good | J         | VVS2      | 62.8      | 57        | 336       | 3.94      | 3.96      | 2.48      | \n",
       "\n",
       "\n"
      ],
      "text/plain": [
       "  carat cut       color clarity depth table price x    y    z   \n",
       "1 0.23  Ideal     E     SI2     61.5  55    326   3.95 3.98 2.43\n",
       "2 0.21  Premium   E     SI1     59.8  61    326   3.89 3.84 2.31\n",
       "3 0.23  Good      E     VS1     56.9  65    327   4.05 4.07 2.31\n",
       "4 0.29  Premium   I     VS2     62.4  58    334   4.20 4.23 2.63\n",
       "5 0.31  Good      J     SI2     63.3  58    335   4.34 4.35 2.75\n",
       "6 0.24  Very Good J     VVS2    62.8  57    336   3.94 3.96 2.48"
      ]
     },
     "metadata": {},
     "output_type": "display_data"
    }
   ],
   "source": [
    "#diamonds is a built in df that ships with R\n",
    "\n",
    "mynewdataframe <- data.frame(diamonds)\n",
    "\n",
    "str(mynewdataframe)\n",
    "\n",
    "head(mynewdataframe)\n",
    "#tail(mynewdataframe)"
   ]
  },
  {
   "cell_type": "code",
   "execution_count": 40,
   "metadata": {},
   "outputs": [
    {
     "data": {
      "text/plain": [
       "     carat               cut        color        clarity          depth      \n",
       " Min.   :0.2000   Fair     : 1610   D: 6775   SI1    :13065   Min.   :43.00  \n",
       " 1st Qu.:0.4000   Good     : 4906   E: 9797   VS2    :12258   1st Qu.:61.00  \n",
       " Median :0.7000   Very Good:12082   F: 9542   SI2    : 9194   Median :61.80  \n",
       " Mean   :0.7979   Premium  :13791   G:11292   VS1    : 8171   Mean   :61.75  \n",
       " 3rd Qu.:1.0400   Ideal    :21551   H: 8304   VVS2   : 5066   3rd Qu.:62.50  \n",
       " Max.   :5.0100                     I: 5422   VVS1   : 3655   Max.   :79.00  \n",
       "                                    J: 2808   (Other): 2531                  \n",
       "     table           price             x                y         \n",
       " Min.   :43.00   Min.   :  326   Min.   : 0.000   Min.   : 0.000  \n",
       " 1st Qu.:56.00   1st Qu.:  950   1st Qu.: 4.710   1st Qu.: 4.720  \n",
       " Median :57.00   Median : 2401   Median : 5.700   Median : 5.710  \n",
       " Mean   :57.46   Mean   : 3933   Mean   : 5.731   Mean   : 5.735  \n",
       " 3rd Qu.:59.00   3rd Qu.: 5324   3rd Qu.: 6.540   3rd Qu.: 6.540  \n",
       " Max.   :95.00   Max.   :18823   Max.   :10.740   Max.   :58.900  \n",
       "                                                                  \n",
       "       z         \n",
       " Min.   : 0.000  \n",
       " 1st Qu.: 2.910  \n",
       " Median : 3.530  \n",
       " Mean   : 3.539  \n",
       " 3rd Qu.: 4.040  \n",
       " Max.   :31.800  \n",
       "                 "
      ]
     },
     "metadata": {},
     "output_type": "display_data"
    },
    {
     "data": {
      "text/html": [
       "<ol class=list-inline>\n",
       "\t<li>53940</li>\n",
       "\t<li>10</li>\n",
       "</ol>\n"
      ],
      "text/latex": [
       "\\begin{enumerate*}\n",
       "\\item 53940\n",
       "\\item 10\n",
       "\\end{enumerate*}\n"
      ],
      "text/markdown": [
       "1. 53940\n",
       "2. 10\n",
       "\n",
       "\n"
      ],
      "text/plain": [
       "[1] 53940    10"
      ]
     },
     "metadata": {},
     "output_type": "display_data"
    },
    {
     "data": {
      "text/html": [
       "53940"
      ],
      "text/latex": [
       "53940"
      ],
      "text/markdown": [
       "53940"
      ],
      "text/plain": [
       "[1] 53940"
      ]
     },
     "metadata": {},
     "output_type": "display_data"
    },
    {
     "data": {
      "text/html": [
       "10"
      ],
      "text/latex": [
       "10"
      ],
      "text/markdown": [
       "10"
      ],
      "text/plain": [
       "[1] 10"
      ]
     },
     "metadata": {},
     "output_type": "display_data"
    }
   ],
   "source": [
    "#take a quick look at the df\n",
    "summary(mynewdataframe)\n",
    "dim(mynewdataframe)\n",
    "nrow(mynewdataframe)\n",
    "ncol(mynewdataframe)"
   ]
  },
  {
   "cell_type": "code",
   "execution_count": 41,
   "metadata": {},
   "outputs": [
    {
     "name": "stdout",
     "output_type": "stream",
     "text": [
      "  carat     cut color clarity depth table price    x    y    z\n",
      "3  0.23    Good     E     VS1  56.9    65   327 4.05 4.07 2.31\n",
      "4  0.29 Premium     I     VS2  62.4    58   334 4.20 4.23 2.63\n"
     ]
    },
    {
     "data": {
      "text/html": [
       "<table>\n",
       "<thead><tr><th scope=col>cut</th><th scope=col>color</th></tr></thead>\n",
       "<tbody>\n",
       "\t<tr><td>Ideal    </td><td>E        </td></tr>\n",
       "\t<tr><td>Premium  </td><td>E        </td></tr>\n",
       "\t<tr><td>Good     </td><td>E        </td></tr>\n",
       "\t<tr><td>Premium  </td><td>I        </td></tr>\n",
       "\t<tr><td>Good     </td><td>J        </td></tr>\n",
       "\t<tr><td>Very Good</td><td>J        </td></tr>\n",
       "</tbody>\n",
       "</table>\n"
      ],
      "text/latex": [
       "\\begin{tabular}{r|ll}\n",
       " cut & color\\\\\n",
       "\\hline\n",
       "\t Ideal     & E        \\\\\n",
       "\t Premium   & E        \\\\\n",
       "\t Good      & E        \\\\\n",
       "\t Premium   & I        \\\\\n",
       "\t Good      & J        \\\\\n",
       "\t Very Good & J        \\\\\n",
       "\\end{tabular}\n"
      ],
      "text/markdown": [
       "\n",
       "cut | color | \n",
       "|---|---|---|---|---|---|\n",
       "| Ideal     | E         | \n",
       "| Premium   | E         | \n",
       "| Good      | E         | \n",
       "| Premium   | I         | \n",
       "| Good      | J         | \n",
       "| Very Good | J         | \n",
       "\n",
       "\n"
      ],
      "text/plain": [
       "  cut       color\n",
       "1 Ideal     E    \n",
       "2 Premium   E    \n",
       "3 Good      E    \n",
       "4 Premium   I    \n",
       "5 Good      J    \n",
       "6 Very Good J    "
      ]
     },
     "metadata": {},
     "output_type": "display_data"
    }
   ],
   "source": [
    "#view rows 3 and 4\n",
    "print(mynewdataframe[3:4,])\n",
    "\n",
    "#view columns CUT and COLOR for the head of the df\n",
    "head(mynewdataframe[,c('cut','color')])\n",
    "\n",
    "#notice mynewdataframe[ROW,COLUMN] syntax"
   ]
  },
  {
   "cell_type": "code",
   "execution_count": 42,
   "metadata": {},
   "outputs": [
    {
     "name": "stdout",
     "output_type": "stream",
     "text": [
      "   carat  cut color clarity depth table price    x    y    z\n",
      "3   0.23 Good     E     VS1  56.9    65   327 4.05 4.07 2.31\n",
      "5   0.31 Good     J     SI2  63.3    58   335 4.34 4.35 2.75\n",
      "11  0.30 Good     J     SI1  64.0    55   339 4.25 4.28 2.73\n",
      "18  0.30 Good     J     SI1  63.4    54   351 4.23 4.29 2.70\n",
      "19  0.30 Good     J     SI1  63.8    56   351 4.23 4.26 2.71\n",
      "21  0.30 Good     I     SI2  63.3    56   351 4.26 4.30 2.71\n",
      "   carat       cut color clarity depth table price    x    y    z\n",
      "5   0.31      Good     J     SI2  63.3    58   335 4.34 4.35 2.75\n",
      "6   0.24 Very Good     J    VVS2  62.8    57   336 3.94 3.96 2.48\n",
      "11  0.30      Good     J     SI1  64.0    55   339 4.25 4.28 2.73\n"
     ]
    }
   ],
   "source": [
    "#subsetting a dataframe\n",
    "good_top <- head(subset(mynewdataframe, cut == 'Good'))\n",
    "j_340_tail <- (subset(mynewdataframe, color == 'J' & price < 340 ))\n",
    "\n",
    "print(good_top)\n",
    "print(j_340_tail)"
   ]
  }
 ],
 "metadata": {
  "kernelspec": {
   "display_name": "R",
   "language": "R",
   "name": "ir"
  },
  "language_info": {
   "codemirror_mode": "r",
   "file_extension": ".r",
   "mimetype": "text/x-r-source",
   "name": "R",
   "pygments_lexer": "r",
   "version": "3.4.2"
  }
 },
 "nbformat": 4,
 "nbformat_minor": 2
}
